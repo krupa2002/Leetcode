{
  "nbformat": 4,
  "nbformat_minor": 0,
  "metadata": {
    "colab": {
      "provenance": [],
      "authorship_tag": "ABX9TyPM+Zi2q/KfdZsMKgIPijxg",
      "include_colab_link": true
    },
    "kernelspec": {
      "name": "python3",
      "display_name": "Python 3"
    },
    "language_info": {
      "name": "python"
    }
  },
  "cells": [
    {
      "cell_type": "markdown",
      "metadata": {
        "id": "view-in-github",
        "colab_type": "text"
      },
      "source": [
        "<a href=\"https://colab.research.google.com/github/krupa2002/Leetcode/blob/Leetcode_Daily_challenges_June2024/Leetcode_daily_challenges.ipynb\" target=\"_parent\"><img src=\"https://colab.research.google.com/assets/colab-badge.svg\" alt=\"Open In Colab\"/></a>"
      ]
    },
    {
      "cell_type": "markdown",
      "source": [
        "# 344. Reverse String - Python3"
      ],
      "metadata": {
        "id": "tQRHFwuTEiAi"
      }
    },
    {
      "cell_type": "code",
      "execution_count": null,
      "metadata": {
        "id": "zaUAexsYEd74"
      },
      "outputs": [],
      "source": [
        "class Solution:\n",
        "    def reverseString(self, s: List[str]) -> None:\n",
        "       s[:]= s[::-1]\n",
        "\n",
        " # defining a class name Solution\n",
        " # defining a method name reverseString\n",
        " # defining that it should be in list of strings\n",
        " # None defines return nothing\n",
        " #s[:: -1]- its a slicing method which reverse the order of element and it is stored in s[:]"
      ]
    },
    {
      "cell_type": "code",
      "source": [],
      "metadata": {
        "id": "7yUKeBnpHETo"
      },
      "execution_count": null,
      "outputs": []
    }
  ]
}