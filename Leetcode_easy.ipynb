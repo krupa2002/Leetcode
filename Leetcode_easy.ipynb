{
  "nbformat": 4,
  "nbformat_minor": 0,
  "metadata": {
    "colab": {
      "provenance": [],
      "authorship_tag": "ABX9TyM2EK3Y2VPwcTOQQlGZg/4a",
      "include_colab_link": true
    },
    "kernelspec": {
      "name": "python3",
      "display_name": "Python 3"
    },
    "language_info": {
      "name": "python"
    }
  },
  "cells": [
    {
      "cell_type": "markdown",
      "metadata": {
        "id": "view-in-github",
        "colab_type": "text"
      },
      "source": [
        "<a href=\"https://colab.research.google.com/github/krupa2002/Leetcode/blob/Leetcode_Easy/Leetcode_easy.ipynb\" target=\"_parent\"><img src=\"https://colab.research.google.com/assets/colab-badge.svg\" alt=\"Open In Colab\"/></a>"
      ]
    },
    {
      "cell_type": "markdown",
      "source": [
        "# 1. Two Sum"
      ],
      "metadata": {
        "id": "ifaUzVg-WPHV"
      }
    },
    {
      "cell_type": "code",
      "execution_count": null,
      "metadata": {
        "id": "kxdBtNerLJTO"
      },
      "outputs": [],
      "source": [
        "class Solution:\n",
        "    def twoSum(self, nums: List[int], target: int) -> List[int]:\n",
        "        n = len(nums)\n",
        "        for i in range(n - 1):\n",
        "            for j in range(i + 1, n):\n",
        "                if nums[i] + nums[j] == target:\n",
        "                    return [i, j]\n",
        "        return []\n",
        " # definning a class\n",
        " # defining a method named twosum\n",
        " # List[int], target: int -list of integers, target that we want to find\n",
        " # len(num) - calculates the length of integer\n",
        " # The nested loop iterates over all possible pairs of indices (i, j) such that i < j.\n",
        " # for i in range(n - 1): This loop iterates over all indices i from 0 to n-2 (inclusive).\n",
        " # for j in range(i + 1, n): This loop iterates over all indices j from i+1 to n-1 (inclusive), ensuring that i < j.\n",
        " # if nums[i] + nums[j] == target: This condition checks if the sum of the numbers at indices i and j equals the target.\n",
        " # if the condition is met, it returns the indices i and j as a list, indicating the indices of the two numbers that sum up to the target.\n",
        ""
      ]
    }
  ]
}